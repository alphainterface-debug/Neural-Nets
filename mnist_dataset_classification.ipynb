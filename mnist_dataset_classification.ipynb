{
  "nbformat": 4,
  "nbformat_minor": 0,
  "metadata": {
    "colab": {
      "name": "Untitled1.ipynb",
      "provenance": [],
      "authorship_tag": "ABX9TyMUci87XrADt4s+rF0Wbi8I",
      "include_colab_link": true
    },
    "kernelspec": {
      "name": "python3",
      "display_name": "Python 3"
    },
    "language_info": {
      "name": "python"
    },
    "accelerator": "GPU"
  },
  "cells": [
    {
      "cell_type": "markdown",
      "metadata": {
        "id": "view-in-github",
        "colab_type": "text"
      },
      "source": [
        "<a href=\"https://colab.research.google.com/github/alphainterface-debug/Neural-Nets/blob/main/mnist_dataset_classification.ipynb\" target=\"_parent\"><img src=\"https://colab.research.google.com/assets/colab-badge.svg\" alt=\"Open In Colab\"/></a>"
      ]
    },
    {
      "cell_type": "code",
      "metadata": {
        "id": "viuYQwGUY3Gs"
      },
      "source": [
        "import pandas as pd\n",
        "import numpy as np"
      ],
      "execution_count": 1,
      "outputs": []
    },
    {
      "cell_type": "code",
      "metadata": {
        "id": "IS295oW1ZHmG"
      },
      "source": [
        "import tensorflow as tf"
      ],
      "execution_count": 2,
      "outputs": []
    },
    {
      "cell_type": "code",
      "metadata": {
        "id": "hR-fYt04ZN00"
      },
      "source": [
        "from tensorflow.keras import Sequential\n",
        "from tensorflow.keras.datasets import mnist\n",
        "import tensorflow.keras.utils\n",
        "from tensorflow.keras.layers import Dense"
      ],
      "execution_count": 3,
      "outputs": []
    },
    {
      "cell_type": "code",
      "metadata": {
        "colab": {
          "base_uri": "https://localhost:8080/"
        },
        "id": "5zH7X_WWa8EO",
        "outputId": "64927b6e-c40f-4e0d-cda8-ca7b9541e80f"
      },
      "source": [
        "mnist"
      ],
      "execution_count": 8,
      "outputs": [
        {
          "output_type": "execute_result",
          "data": {
            "text/plain": [
              "<module 'tensorflow.keras.datasets.mnist' from '/usr/local/lib/python3.7/dist-packages/tensorflow/keras/datasets/mnist/__init__.py'>"
            ]
          },
          "metadata": {
            "tags": []
          },
          "execution_count": 8
        }
      ]
    },
    {
      "cell_type": "code",
      "metadata": {
        "colab": {
          "base_uri": "https://localhost:8080/"
        },
        "id": "VxLRY5pJbHn-",
        "outputId": "2ef027e2-ebb4-4db0-ac0e-1465f40a7dbe"
      },
      "source": [
        "(X_train,y_train),(X_test,y_test) = mnist.load_data()"
      ],
      "execution_count": 4,
      "outputs": [
        {
          "output_type": "stream",
          "text": [
            "Downloading data from https://storage.googleapis.com/tensorflow/tf-keras-datasets/mnist.npz\n",
            "11493376/11490434 [==============================] - 0s 0us/step\n"
          ],
          "name": "stdout"
        }
      ]
    },
    {
      "cell_type": "code",
      "metadata": {
        "colab": {
          "base_uri": "https://localhost:8080/"
        },
        "id": "p9ms9WXlgZsA",
        "outputId": "0c566d94-2e77-4176-dc66-f91d061b9f8b"
      },
      "source": [
        "X_train.shape"
      ],
      "execution_count": 5,
      "outputs": [
        {
          "output_type": "execute_result",
          "data": {
            "text/plain": [
              "(60000, 28, 28)"
            ]
          },
          "metadata": {
            "tags": []
          },
          "execution_count": 5
        }
      ]
    },
    {
      "cell_type": "code",
      "metadata": {
        "colab": {
          "base_uri": "https://localhost:8080/"
        },
        "id": "KOk257l8ga2E",
        "outputId": "4edcb0b9-2df7-4a7e-ce71-b2c72be51fdd"
      },
      "source": [
        "y_train.shape"
      ],
      "execution_count": 6,
      "outputs": [
        {
          "output_type": "execute_result",
          "data": {
            "text/plain": [
              "(60000,)"
            ]
          },
          "metadata": {
            "tags": []
          },
          "execution_count": 6
        }
      ]
    },
    {
      "cell_type": "code",
      "metadata": {
        "colab": {
          "base_uri": "https://localhost:8080/"
        },
        "id": "_OTtKWfigkFa",
        "outputId": "85d6557f-a9ae-4364-d4b3-cf0efbb1a4c1"
      },
      "source": [
        "X_test.shape"
      ],
      "execution_count": 7,
      "outputs": [
        {
          "output_type": "execute_result",
          "data": {
            "text/plain": [
              "(10000, 28, 28)"
            ]
          },
          "metadata": {
            "tags": []
          },
          "execution_count": 7
        }
      ]
    },
    {
      "cell_type": "code",
      "metadata": {
        "id": "ol9QXjbIhbc3"
      },
      "source": [
        "import matplotlib.pyplot as plt\n",
        "%matplotlib inline"
      ],
      "execution_count": 8,
      "outputs": []
    },
    {
      "cell_type": "code",
      "metadata": {
        "colab": {
          "base_uri": "https://localhost:8080/",
          "height": 282
        },
        "id": "y1tOCVrdijMP",
        "outputId": "8d000ff8-df6b-4073-a439-2e062ad7bc21"
      },
      "source": [
        "plt.imshow(X_train[1001])"
      ],
      "execution_count": 9,
      "outputs": [
        {
          "output_type": "execute_result",
          "data": {
            "text/plain": [
              "<matplotlib.image.AxesImage at 0x7fed4f88c310>"
            ]
          },
          "metadata": {
            "tags": []
          },
          "execution_count": 9
        },
        {
          "output_type": "display_data",
          "data": {
            "image/png": "[encoded data removed]",
            "text/plain": [
              "<Figure size 432x288 with 1 Axes>"
            ]
          },
          "metadata": {
            "tags": [],
            "needs_background": "light"
          }
        }
      ]
    },
    {
      "cell_type": "code",
      "metadata": {
        "colab": {
          "base_uri": "https://localhost:8080/"
        },
        "id": "s5Mh_EHomh5l",
        "outputId": "c0757b05-d3f8-47bf-e5de-9d6107c94777"
      },
      "source": [
        "X_train.shape"
      ],
      "execution_count": 10,
      "outputs": [
        {
          "output_type": "execute_result",
          "data": {
            "text/plain": [
              "(60000, 28, 28)"
            ]
          },
          "metadata": {
            "tags": []
          },
          "execution_count": 10
        }
      ]
    },
    {
      "cell_type": "code",
      "metadata": {
        "colab": {
          "base_uri": "https://localhost:8080/"
        },
        "id": "YMVrdAFZmkCo",
        "outputId": "cde90239-2465-4909-c897-05bfa73e1de2"
      },
      "source": [
        "X_train.shape[0]"
      ],
      "execution_count": 11,
      "outputs": [
        {
          "output_type": "execute_result",
          "data": {
            "text/plain": [
              "60000"
            ]
          },
          "metadata": {
            "tags": []
          },
          "execution_count": 11
        }
      ]
    },
    {
      "cell_type": "code",
      "metadata": {
        "id": "-ZtigrO1jOg0"
      },
      "source": [
        "X_train = X_train.reshape(X_train.shape[0],784)\n"
      ],
      "execution_count": 12,
      "outputs": []
    },
    {
      "cell_type": "code",
      "metadata": {
        "id": "UyNrHGw7n0Z2"
      },
      "source": [
        "X_test = X_test.reshape(X_test.shape[0],784)\n"
      ],
      "execution_count": 13,
      "outputs": []
    },
    {
      "cell_type": "code",
      "metadata": {
        "id": "fRSCX_YIgnYZ"
      },
      "source": [
        "X_train = X_train.astype('float64')\n",
        "X_test = X_test.astype('float64')"
      ],
      "execution_count": 14,
      "outputs": []
    },
    {
      "cell_type": "code",
      "metadata": {
        "colab": {
          "base_uri": "https://localhost:8080/"
        },
        "id": "M2riE_0dg0MJ",
        "outputId": "0ee9165f-01d0-4598-a892-3fc990978612"
      },
      "source": [
        "X_train.dtype\n",
        "X_test.dtype"
      ],
      "execution_count": 15,
      "outputs": [
        {
          "output_type": "execute_result",
          "data": {
            "text/plain": [
              "dtype('float64')"
            ]
          },
          "metadata": {
            "tags": []
          },
          "execution_count": 15
        }
      ]
    },
    {
      "cell_type": "code",
      "metadata": {
        "colab": {
          "base_uri": "https://localhost:8080/"
        },
        "id": "cND-Li_pg7EI",
        "outputId": "d24a7544-7ab6-4e9e-8210-d8f24f5261fb"
      },
      "source": [
        "X_test"
      ],
      "execution_count": 16,
      "outputs": [
        {
          "output_type": "execute_result",
          "data": {
            "text/plain": [
              "array([[0., 0., 0., ..., 0., 0., 0.],\n",
              "       [0., 0., 0., ..., 0., 0., 0.],\n",
              "       [0., 0., 0., ..., 0., 0., 0.],\n",
              "       ...,\n",
              "       [0., 0., 0., ..., 0., 0., 0.],\n",
              "       [0., 0., 0., ..., 0., 0., 0.],\n",
              "       [0., 0., 0., ..., 0., 0., 0.]])"
            ]
          },
          "metadata": {
            "tags": []
          },
          "execution_count": 16
        }
      ]
    },
    {
      "cell_type": "code",
      "metadata": {
        "id": "4CannEGVi3vh"
      },
      "source": [
        "X_train/=255\n",
        "X_test/=255\n"
      ],
      "execution_count": 17,
      "outputs": []
    },
    {
      "cell_type": "code",
      "metadata": {
        "id": "7hFXX5mspB0n"
      },
      "source": [
        "y_train = tensorflow.keras.utils.to_categorical(y_train)\n",
        "y_test = tensorflow.keras.utils.to_categorical(y_test)"
      ],
      "execution_count": 18,
      "outputs": []
    },
    {
      "cell_type": "code",
      "metadata": {
        "colab": {
          "base_uri": "https://localhost:8080/"
        },
        "id": "xBbthNt4pg6a",
        "outputId": "3c70a995-52b0-4d94-c27c-491743027957"
      },
      "source": [
        "y_train"
      ],
      "execution_count": 19,
      "outputs": [
        {
          "output_type": "execute_result",
          "data": {
            "text/plain": [
              "array([[0., 0., 0., ..., 0., 0., 0.],\n",
              "       [1., 0., 0., ..., 0., 0., 0.],\n",
              "       [0., 0., 0., ..., 0., 0., 0.],\n",
              "       ...,\n",
              "       [0., 0., 0., ..., 0., 0., 0.],\n",
              "       [0., 0., 0., ..., 0., 0., 0.],\n",
              "       [0., 0., 0., ..., 0., 1., 0.]], dtype=float32)"
            ]
          },
          "metadata": {
            "tags": []
          },
          "execution_count": 19
        }
      ]
    },
    {
      "cell_type": "code",
      "metadata": {
        "id": "h0bY2dwGrWT1"
      },
      "source": [
        "df_y = pd.DataFrame(y_train)"
      ],
      "execution_count": 20,
      "outputs": []
    },
    {
      "cell_type": "code",
      "metadata": {
        "id": "Y3lZ3fxjpl7p"
      },
      "source": [
        "NNmodel1 = Sequential()"
      ],
      "execution_count": 38,
      "outputs": []
    },
    {
      "cell_type": "code",
      "metadata": {
        "id": "aCSeEpfLqTyj"
      },
      "source": [
        "#NNmodel1.add(Dense(100,activation = 'relu', input_shape=(784,)))\n",
        "NNmodel1.add(Dense(784,activation = 'relu'))\n",
        "NNmodel1.add(Dense(100,activation = 'relu'))\n",
        "NNmodel1.add(Dense(10,activation='softmax'))"
      ],
      "execution_count": 40,
      "outputs": []
    },
    {
      "cell_type": "code",
      "metadata": {
        "id": "yXTNZOEXq6eF"
      },
      "source": [
        "NNmodel1.compile(optimizer = 'adam',metrics = ['accuracy'],loss='categorical_crossentropy')"
      ],
      "execution_count": 41,
      "outputs": []
    },
    {
      "cell_type": "code",
      "metadata": {
        "colab": {
          "base_uri": "https://localhost:8080/"
        },
        "id": "QI0DQ8g2tp0G",
        "outputId": "938f9d54-9def-4cdc-e156-265e3a49f868"
      },
      "source": [
        "epoch = 24\n",
        "batchsize = 70000\n",
        "history = NNmodel1.fit(X_train,y_train,epochs = epoch,batch_size=batchsize,validation_split=0.3)"
      ],
      "execution_count": 42,
      "outputs": [
        {
          "output_type": "stream",
          "text": [
            "Epoch 1/24\n",
            "1/1 [==============================] - 1s 652ms/step - loss: 2.2832 - accuracy: 0.1320 - val_loss: 1.9450 - val_accuracy: 0.4717\n",
            "Epoch 2/24\n",
            "1/1 [==============================] - 0s 169ms/step - loss: 1.9485 - accuracy: 0.4671 - val_loss: 1.6450 - val_accuracy: 0.6580\n",
            "Epoch 3/24\n",
            "1/1 [==============================] - 0s 159ms/step - loss: 1.6516 - accuracy: 0.6528 - val_loss: 1.3589 - val_accuracy: 0.7518\n",
            "Epoch 4/24\n",
            "1/1 [==============================] - 0s 156ms/step - loss: 1.3688 - accuracy: 0.7438 - val_loss: 1.1138 - val_accuracy: 0.7841\n",
            "Epoch 5/24\n",
            "1/1 [==============================] - 0s 128ms/step - loss: 1.1276 - accuracy: 0.7739 - val_loss: 0.9057 - val_accuracy: 0.8198\n",
            "Epoch 6/24\n",
            "1/1 [==============================] - 0s 123ms/step - loss: 0.9229 - accuracy: 0.8097 - val_loss: 0.7483 - val_accuracy: 0.8407\n",
            "Epoch 7/24\n",
            "1/1 [==============================] - 0s 147ms/step - loss: 0.7682 - accuracy: 0.8334 - val_loss: 0.6392 - val_accuracy: 0.8462\n",
            "Epoch 8/24\n",
            "1/1 [==============================] - 0s 123ms/step - loss: 0.6600 - accuracy: 0.8402 - val_loss: 0.5555 - val_accuracy: 0.8540\n",
            "Epoch 9/24\n",
            "1/1 [==============================] - 0s 125ms/step - loss: 0.5750 - accuracy: 0.8498 - val_loss: 0.4957 - val_accuracy: 0.8633\n",
            "Epoch 10/24\n",
            "1/1 [==============================] - 0s 138ms/step - loss: 0.5136 - accuracy: 0.8586 - val_loss: 0.4532 - val_accuracy: 0.8698\n",
            "Epoch 11/24\n",
            "1/1 [==============================] - 0s 125ms/step - loss: 0.4698 - accuracy: 0.8673 - val_loss: 0.4205 - val_accuracy: 0.8768\n",
            "Epoch 12/24\n",
            "1/1 [==============================] - 0s 133ms/step - loss: 0.4352 - accuracy: 0.8770 - val_loss: 0.3976 - val_accuracy: 0.8843\n",
            "Epoch 13/24\n",
            "1/1 [==============================] - 0s 138ms/step - loss: 0.4102 - accuracy: 0.8831 - val_loss: 0.3783 - val_accuracy: 0.8886\n",
            "Epoch 14/24\n",
            "1/1 [==============================] - 0s 137ms/step - loss: 0.3889 - accuracy: 0.8885 - val_loss: 0.3628 - val_accuracy: 0.8927\n",
            "Epoch 15/24\n",
            "1/1 [==============================] - 0s 134ms/step - loss: 0.3713 - accuracy: 0.8932 - val_loss: 0.3513 - val_accuracy: 0.8965\n",
            "Epoch 16/24\n",
            "1/1 [==============================] - 0s 137ms/step - loss: 0.3577 - accuracy: 0.8966 - val_loss: 0.3403 - val_accuracy: 0.8996\n",
            "Epoch 17/24\n",
            "1/1 [==============================] - 0s 137ms/step - loss: 0.3447 - accuracy: 0.8998 - val_loss: 0.3305 - val_accuracy: 0.9034\n",
            "Epoch 18/24\n",
            "1/1 [==============================] - 0s 119ms/step - loss: 0.3331 - accuracy: 0.9036 - val_loss: 0.3217 - val_accuracy: 0.9059\n",
            "Epoch 19/24\n",
            "1/1 [==============================] - 0s 124ms/step - loss: 0.3229 - accuracy: 0.9068 - val_loss: 0.3131 - val_accuracy: 0.9087\n",
            "Epoch 20/24\n",
            "1/1 [==============================] - 0s 135ms/step - loss: 0.3132 - accuracy: 0.9096 - val_loss: 0.3051 - val_accuracy: 0.9104\n",
            "Epoch 21/24\n",
            "1/1 [==============================] - 0s 111ms/step - loss: 0.3040 - accuracy: 0.9122 - val_loss: 0.2979 - val_accuracy: 0.9139\n",
            "Epoch 22/24\n",
            "1/1 [==============================] - 0s 127ms/step - loss: 0.2957 - accuracy: 0.9150 - val_loss: 0.2915 - val_accuracy: 0.9160\n",
            "Epoch 23/24\n",
            "1/1 [==============================] - 0s 108ms/step - loss: 0.2880 - accuracy: 0.9171 - val_loss: 0.2848 - val_accuracy: 0.9175\n",
            "Epoch 24/24\n",
            "1/1 [==============================] - 0s 107ms/step - loss: 0.2798 - accuracy: 0.9198 - val_loss: 0.2790 - val_accuracy: 0.9191\n"
          ],
          "name": "stdout"
        }
      ]
    },
    {
      "cell_type": "code",
      "metadata": {
        "colab": {
          "base_uri": "https://localhost:8080/"
        },
        "id": "j4hD3yGtvBT5",
        "outputId": "75d956b2-7e98-41b0-88d7-1e07ba9f4170"
      },
      "source": [
        "loss,acc = NNmodel1.evaluate(X_test,y_test)"
      ],
      "execution_count": 43,
      "outputs": [
        {
          "output_type": "stream",
          "text": [
            "313/313 [==============================] - 1s 2ms/step - loss: 0.2714 - accuracy: 0.9211\n"
          ],
          "name": "stdout"
        }
      ]
    },
    {
      "cell_type": "code",
      "metadata": {
        "id": "bGD6V1LOyoLm"
      },
      "source": [
        ""
      ],
      "execution_count": null,
      "outputs": []
    }
  ]
}